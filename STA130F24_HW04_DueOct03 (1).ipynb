{
 "cells": [
  {
   "cell_type": "markdown",
   "metadata": {},
   "source": [
    "# STA130 Homework 04 \n",
    "\n",
    "Please see the course [wiki-textbook](https://github.com/pointOfive/stat130chat130/wiki) for the list of topics covered in this homework assignment, and a list of topics that might appear during ChatBot conversations which are \"out of scope\" for the purposes of this homework assignment (and hence can be safely ignored if encountered)"
   ]
  },
  {
   "cell_type": "markdown",
   "metadata": {},
   "source": [
    "<details class=\"details-example\"><summary style=\"color:blue\"><u>Introduction</u></summary>\n",
    "\n",
    "### Introduction\n",
    "\n",
    "A reasonable characterization of STA130 Homework is that it simply defines a weekly reading comprehension assignment. \n",
    "Indeed, STA130 Homework essentially boils down to completing various understanding confirmation exercises oriented around coding and writing tasks.\n",
    "However, rather than reading a textbook, STA130 Homework is based on ChatBots so students can interactively follow up to clarify questions or confusion that they may still have regarding learning objective assignments.\n",
    "\n",
    "> Communication is a fundamental skill underlying statistics and data science, so STA130 Homework based on ChatBots helps practice effective two-way communication as part of a \"realistic\" dialogue activity supporting underlying conceptual understanding building. \n",
    "\n",
    "It will likely become increasingly tempting to rely on ChatBots to \"do the work for you\". But when you find yourself frustrated with a ChatBots inability to give you the results you're looking for, this is a \"hint\" that you've become overreliant on the ChatBots. Your objective should not be to have ChatBots \"do the work for you\", but to use ChatBots to help you build your understanding so you can efficiently leverage ChatBots (and other resources) to help you work more efficiently.<br><br>\n",
    "\n",
    "</details>\n",
    "\n",
    "<details class=\"details-example\"><summary style=\"color:blue\"><u>Instructions</u></summary>\n",
    "\n",
    "### Instructions\n",
    "\n",
    "1. Code and write all your answers (for both the \"Prelecture\" and \"Postlecture\" HW) in a python notebook (in code and markdown cells) \n",
    "    \n",
    "    > It is *suggested but not mandatory* that you complete the \"Prelecture\" HW prior to the Monday LEC since (a) all HW is due at the same time; but, (b) completing some of the HW early will mean better readiness for LEC and less of a \"procrastentation cruch\" towards the end of the week...\n",
    "    \n",
    "2. Paste summaries of your ChatBot sessions (including link(s) to chat log histories if you're using ChatGPT) within your notebook\n",
    "    \n",
    "    > Create summaries of your ChatBot sessions by using concluding prompts such as \"Please provide a summary of our exchanges here so I can submit them as a record of our interactions as part of a homework assignment\" or, \"Please provide me with the final working verson of the code that we created together\"\n",
    "    \n",
    "3. Save your python jupyter notebook in your own account and \"repo\" on [github.com](github.com) and submit a link to that notebook though Quercus for assignment marking<br><br>\n",
    "\n",
    "</details>\n",
    "\n",
    "<details class=\"details-example\"><summary style=\"color:blue\"><u>Prompt Engineering?</u></summary>\n",
    "\n",
    "### Prompt Engineering? \n",
    "\n",
    "The questions (as copy-pasted prompts) are designed to initialize appropriate ChatBot conversations which can be explored in the manner of an interactive and dynamic textbook; but, it is nonetheless **strongly recommendated** that your rephrase the questions in a way that you find natural to ensure a clear understanding of the question. Given sensible prompts the represent a question well, the two primary challenges observed to arise from ChatBots are \n",
    "\n",
    "1. conversations going beyond the intended scope of the material addressed by the question; and, \n",
    "2. unrecoverable confusion as a result of sequential layers logial inquiry that cannot be resolved. \n",
    "\n",
    "In the case of the former (1), adding constraints specifying the limits of considerations of interest tends to be helpful; whereas, the latter (2) is often the result of initial prompting that leads to poor developments in navigating the material, which are likely just best resolve by a \"hard reset\" with a new initial approach to prompting.  Indeed, this is exactly the behavior [hardcoded into copilot](https://answers.microsoft.com/en-us/bing/forum/all/is-this-even-normal/0b6dcab3-7d6c-4373-8efe-d74158af3c00)...\n",
    "\n",
    "</details>\n",
    "\n",
    "\n"
   ]
  },
  {
   "cell_type": "markdown",
   "metadata": {},
   "source": [
    "### Marking Rubric (which may award partial credit) \n",
    "\n",
    "- [0.1 points]: All relevant ChatBot summaries [including link(s) to chat log histories if you're using ChatGPT] are reported within the notebook\n",
    "- [0.2 points]: Evaluation of correctness and effectiveness of written communication for Question \"1\"\n",
    "<!-- - [0.3 points]: Correctness of understanding confirmed by code comments and relevant ChatBot summaries [including link(s) to chat log histories if you're using ChatGPT] for Question \"4\" -->\n",
    "- [0.3 points]: Evaluation of correctness and effectiveness of written communication for Question \"6\"\n",
    "- [0.4 points]: Evaluation of submission for Question \"8\" "
   ]
  },
  {
   "cell_type": "markdown",
   "metadata": {},
   "source": [
    "## \"Pre-lecture\" HW [*completion prior to next LEC is suggested but not mandatory*]\n",
    "\n",
    "**To prepare for this weeks lecture, first watch this video [introduction to bootstrapping](https://www.youtube.com/watch?v=Xz0x-8-cgaQ)**\n"
   ]
  },
  {
   "cell_type": "code",
   "execution_count": null,
   "metadata": {},
   "outputs": [],
   "source": [
    "from IPython.display import YouTubeVideo\n",
    "YouTubeVideo('Xz0x-8-cgaQ', width=800, height=500)"
   ]
  },
  {
   "cell_type": "markdown",
   "metadata": {
    "slideshow": {
     "slide_type": "-"
    }
   },
   "source": [
    "### 1. The \"Pre-lecture\" video (above) mentioned the \"standard error of the mean\" as being the \"standard deviation\" of the distribution bootstrapped means.  What is the difference between the \"standard error of the mean\" and the \"standard deviation\" of the original data? What distinct ideas do each of these capture? Explain this concisely in your own words.<br>\n",
    "\n",
    "<details class=\"details-example\"><summary style=\"color:blue\"><u>Further Guidance</u></summary>\n",
    "\n",
    "> _To answer this question, you could start a ChatBot session and try giving a ChatBot a shot at trying to explain this distinction to you. If you're not sure if you've been able to figure it out out this way, review [this ChatGPT session](https://github.com/pointOfive/stat130chat130/blob/main/CHATLOG/wk4/GPT/SLS/00002_gpt3p5_SEM_vs_SD_Difference.md)._\n",
    "> - _If you discuss this question with a ChatBot, don't forget to ask for summaries of your ChatBot session(s) and paste these into your homework notebook (including link(s) to chat log histories if you're using ChatGPT)._\n",
    "> \n",
    "> _Note that the \"Pre-lecture\" video (above) and the last *Question 5* of The **Week 04 TUT Communication Actvity #2** address the question of \"What is bootstrapping?\", but the question of \"What is the difference between the \"standard error of the mean\" and the \"standard deviation\" of the original data?\" does not really depend on what bootstrapping is._\n",
    "> \n",
    "> _If you were to be interested in answering the question of \"What is bootstrapping?\", probably just asking a ChatBot directly would work. Or even something like \"Explain variability of means, function of sample size, bootstrapping\" or \"How does the variability of means of simulated samples change as a function of sample size? Explain this to me in a simple way using bootstrapping!\" would likely be pretty effective as prompts. ChatBots are not particularly picky about prompts when it comes to addressing very well understood topics (like bootstrapping). That said, the more concise context you provide in your prompt, the more you can guide the relevance and relatability of the responses of a ChatBot in a manner you desire. The \"Further Guidance\" under *Question 5* of **Communication Actvity #2** in TUT is a good example of this._\n",
    "    \n",
    "</details>"
   ]
  },
  {
   "cell_type": "markdown",
   "metadata": {},
   "source": [
    "- Standard deviation measures the dispersion or variability of a data set. It reflects the spread of the data within the sample or population. \n",
    "\n",
    "- Standard error of the mean measures the precision with which the sample mean estimates the population mean. It is used to estimate the uncertainty of the sample mean as an estimate of the population mean. \n",
    "\n",
    "They are different, which the standard deviation measures the spread of the data while the standard error of the mean measures the accuracy. The standard error of the mean depends on the sample size while standard deviation does not. "
   ]
  },
  {
   "cell_type": "markdown",
   "metadata": {},
   "source": [
    "### 2. The \"Pre-lecture\" video (above) suggested that the \"standard error of the mean\" could be used to create a confidence interval, but didn't describe exactly how to do this.  How can we use the \"standard error of the mean\" to create a 95% confidence interval which \"covers 95% of the bootstrapped sample means\"? Explain this concisely in your own words.<br>\n",
    "\n",
    "<details class=\"details-example\"><summary style=\"color:blue\"><u>Further Guidance</u></summary>\n",
    "\n",
    "> _Just describe the proceedure itself (probably as reported by a ChatBot), but explain the procedure in your own words in a way that makes the most sense to you. The point is not to understand or explain the theoretical justification as to why this procedure exists, it's just to recognize that it does indeed exist and to briefly describe it. This is because in this class we're going to instead focus on understanding and using 95% bootstrapped confidence intervals. So this \"sample mean plus and minus about 2 times the standard error\" really only provides some context against which to contrast and clarify bootstrapped confidence intervals_\n",
    ">\n",
    "> - _If you continue get help from a ChatBot for this question (as is intended and expected for this problem), don't forget to ask for summaries of your ChatBot session(s) and paste these into your homework notebook (including link(s) to chat log histories if you're using ChatGPT)._\n",
    "</details>"
   ]
  },
  {
   "cell_type": "markdown",
   "metadata": {},
   "source": [
    "To create a 95% confidence interval for the population mean using standard error of the mean, you:\n",
    "1. calculate the sample mean\n",
    "2. determine the standard error of the mean: SEM = SD/root(sample size)\n",
    "3. for a 95% confidence interval, you use a critical value according to your data distribution\n",
    "4. calculate the confidence interval using: CI = sample mean +/- (critical value * standard error of the means)\n",
    "5. interpret the confidence interval.\n",
    "\n",
    "In bootstrapping, you generate many resamples from your original sample, compute the mean for each resample, and use those bootstrapped means to approximate the sampling distribution of the mean. You can apply the same confidence interval procedure described above to the distribution of the bootstrapped means to capture the range within which 95% of the bootstrapped sample means would lie."
   ]
  },
  {
   "cell_type": "markdown",
   "metadata": {},
   "source": [
    "### 3. Creating the \"sample mean plus and minus about 2 times the standard error\" confidence interval addressed in the previous problem should indeed cover approximately 95% of the bootstrapped sample means. Alternatively, how do we create a 95% bootstrapped confidence interval using the bootstrapped means (without using their standard deviation to estimate the standard error of the mean)? Explain this concisely in your own words.<br>\n",
    "\n",
    "<details class=\"details-example\"><summary style=\"color:blue\"><u>Further Guidance</u></summary>\n",
    "\n",
    "> _A good explaination here would likely be based on explaining how (and why) to use the `np.quantile(...)` function on a collection of bootstrapped sample means. The \"pre-lecture video\" describes what this should be, just not in terms of`np.quantile(...)`, right before the \"double bam\"._\n",
    ">\n",
    "> _That said, there are many other questions about bootstrapping that you should be working on familiarizing yourself with as as you're thinking through th proceedure that answers this question._\n",
    "> \n",
    "> - _If you had a_ ~~theoretical distribution~~ _histogram of bootstrapped sample means representing the variability/uncertianty of means (of \"averages\") that an observed sample of size n produces, how would you give a range estimating what the sample mean of a future sample of size n might be?_\n",
    ">\n",
    "> - _Unlike the \"sample mean plus and minus about 2 times the standard error\" approach which would only cover **approximately** 95% of the bootstrapped sample means, a 95% bootstrapped confidence interval would cover exactly 95% of the bootstrapped means._\n",
    ">\n",
    "> - _While the variability/uncertainty of sample mean statistics when sampling from a population is a function of the sample size (n) [how?], we would NEVER consider using a bootstrapped sample size that was different than the size of the original sample [why?]._\n",
    ">\n",
    "> - _Are bootstrapped samples different if they are the same size as the original sample and created by sampling **without replacement**?_\n",
    "\n",
    "</details>"
   ]
  },
  {
   "cell_type": "markdown",
   "metadata": {},
   "source": [
    "Creating a 95% bootstrapped confidence interval directly from bootstrapped sample means involves a different approach than using the standard error.\n",
    "1. From your original dataset, repeatedly draw resamples with replacement. Each resample should have the same size as the original sample.\n",
    "2. For each bootstrapped sample, compute the mean.\n",
    "3. Once you have all the bootstrapped means, sort them in ascending order.\n",
    "4. To create a 95% CI, find the 2.5th percentile and the 97.5th percentile.\n",
    "- lower limit index = 0.025 * bootstrapped mean\n",
    "- upper limit index = 0.975 * bootstrapped mean\n",
    "5. The values at these indices in the sorted bootstrapped means represent the lower and upper bounds of your 95% confidence interval."
   ]
  },
  {
   "cell_type": "markdown",
   "metadata": {},
   "source": [
    "### 4. The \"Pre-lecture\" video (above) mentioned that bootstrap confidence intervals could apply to other statistics of the sample, such as the \"median\". Work with a ChatBot to create code to produce a 95% bootstrap confidence interval for a population mean based on a sample that you have and comment the code to demonstrate how the code can be changed to produce a 95% bootstrap confidence interval for different population parameter (other than the population mean, such as the population median).<br>\n",
    "\n",
    "<details class=\"details-example\"><summary style=\"color:blue\"><u>Further Guidance</u></summary>\n",
    "\n",
    "> _Hint: you can ask your ChatBot to create the code you need, and even make up a sample to use; but, you should work with your ChatBot to make sure you understand how the code works and what it's doing. Just having a ChatBot comment what the code does is not what this problem is asking you to do. This problem wants YOU to understand what the code does. To make sure you're indeed doing this, consider deleting the inline explanatory comments your ChatBot provides to you and write them again in your own words from scratch._\n",
    ">\n",
    "> - _Don't forget to ask for summaries of your ChatBot session(s) and paste these into your homework notebook (including link(s) to chat log histories if you're using ChatGPT)!_\n",
    "\n",
    "</details>"
   ]
  },
  {
   "cell_type": "code",
   "execution_count": 3,
   "metadata": {},
   "outputs": [
    {
     "name": "stdout",
     "output_type": "stream",
     "text": [
      "95% Confidence Interval for the population mean: [163.8, 173.3025]\n",
      "95% Confidence Interval for the population median: [162.5, 175.0]\n"
     ]
    }
   ],
   "source": [
    "import numpy as np\n",
    "\n",
    "def bootstrap_confidence_interval(data, num_bootstrap_samples=1000, confidence_level=0.95, statistic=np.mean):\n",
    "    \"\"\"\n",
    "    Generate a bootstrap confidence interval for a specified statistic.\n",
    "    \n",
    "    Parameters:\n",
    "    data: array-like\n",
    "        The original sample data from which to bootstrap.\n",
    "    num_bootstrap_samples: int\n",
    "        Number of bootstrap resamples to generate (default: 1000).\n",
    "    confidence_level: float\n",
    "        Confidence level for the interval (default: 0.95 for 95% confidence interval).\n",
    "    statistic: function\n",
    "        The statistic function to apply to the resamples (default: np.mean for population mean).\n",
    "        You can change this to another statistic like np.median for the population median.\n",
    "    \n",
    "    Returns:\n",
    "    (lower_bound, upper_bound): tuple\n",
    "        The lower and upper bounds of the confidence interval.\n",
    "    \"\"\"\n",
    "    \n",
    "    # Generate bootstrap samples and compute the statistic for each sample\n",
    "    bootstrap_statistics = []\n",
    "    for _ in range(num_bootstrap_samples):\n",
    "        # Resample the data with replacement\n",
    "        bootstrap_sample = np.random.choice(data, size=len(data), replace=True)\n",
    "        # Compute the statistic (e.g., mean, median) for the bootstrap sample\n",
    "        bootstrap_statistics.append(statistic(bootstrap_sample))\n",
    "    \n",
    "    # Convert the list to a numpy array for easier manipulation\n",
    "    bootstrap_statistics = np.array(bootstrap_statistics)\n",
    "    \n",
    "    # Sort the bootstrap statistics\n",
    "    sorted_bootstrap_statistics = np.sort(bootstrap_statistics)\n",
    "    \n",
    "    # Compute the percentiles for the confidence interval\n",
    "    lower_percentile = (1 - confidence_level) / 2\n",
    "    upper_percentile = 1 - lower_percentile\n",
    "    \n",
    "    lower_bound = np.percentile(sorted_bootstrap_statistics, lower_percentile * 100)\n",
    "    upper_bound = np.percentile(sorted_bootstrap_statistics, upper_percentile * 100)\n",
    "    \n",
    "    return lower_bound, upper_bound\n",
    "\n",
    "# Example usage:\n",
    "# Sample data (e.g., heights of individuals)\n",
    "data = [170, 165, 180, 175, 160, 155, 172, 178, 168, 165]\n",
    "\n",
    "# Generate a 95% bootstrap confidence interval for the population mean\n",
    "lower_ci, upper_ci = bootstrap_confidence_interval(data)\n",
    "print(f\"95% Confidence Interval for the population mean: [{lower_ci}, {upper_ci}]\")\n",
    "\n",
    "# To generate a 95% confidence interval for the population median instead of the mean:\n",
    "lower_ci_median, upper_ci_median = bootstrap_confidence_interval(data, statistic=np.median)\n",
    "print(f\"95% Confidence Interval for the population median: [{lower_ci_median}, {upper_ci_median}]\")"
   ]
  },
  {
   "cell_type": "markdown",
   "metadata": {},
   "source": [
    "Link to chatGPT section for questions 1-4: https://chatgpt.com/share/66fe29b2-bb2c-800e-a60c-946da826c8ff\n",
    "\n",
    "Summary:\n",
    "In this section, we discussed statistical concepts such as the **standard error of the mean (SEM)** and the **standard deviation (SD)**, explaining their differences and roles. The SEM measures the precision of the sample mean as an estimator of the population mean, while the SD measures the variability or spread of individual data points.\n",
    "\n",
    "We also explored how to construct a **95% confidence interval** using the SEM, which provides a range around the sample mean likely to include the population mean. Additionally, we introduced a **bootstrap method** to create a confidence interval directly from bootstrapped sample means, without using the SD to estimate SEM. This approach involves calculating the percentiles from sorted bootstrapped statistics.\n",
    "\n",
    "Finally, Python code was provided to generate a 95% bootstrap confidence interval for the **population mean**, with instructions on how to modify the code to calculate confidence intervals for other population parameters, such as the **median**."
   ]
  },
  {
   "cell_type": "markdown",
   "metadata": {},
   "source": [
    "<details class=\"details-example\"><summary style=\"color:blue\"><u>Continue now...?</u></summary>\n",
    "\n",
    "### Pre-lecture VS Post-lecture HW\n",
    "\n",
    "Feel free to work on the \"Post-lecture\" HW below if you're making good progress and want to continue: some of the \"Post-lecture\" HW questions continue to address the \"Pre-lecture\" video, so it's not particularly unreasonable to attempt to work ahead a little bit... \n",
    "\n",
    "- The very first question of the the \"Post-lecture\" HW addresses the previously emphasized topic of *parameters* versus *statistics*, and would again be a very good thing to be clear about in preparation for the upcoming lecture...\n",
    "    \n",
    "*The benefits of continue would are that (a) it might be fun to try to tackle the challenge of working through some problems without additional preparation or guidance; and (b) this is a very valable skill to be comfortable with; and (c) it will let you build experience interacting with ChatBots (and beginning to understand their strengths and limitations in this regard)... it's good to have sense of when using a ChatBot is the best way to figure something out, or if another approach (such as course provided resources or a plain old websearch for the right resourse) would be more effective*\n",
    "    \n",
    "</details>    "
   ]
  },
  {
   "cell_type": "markdown",
   "metadata": {},
   "source": [
    "## \"Post-lecture\" HW [*submission along with \"Pre-lecture\" HW is due prior to next TUT*]"
   ]
  },
  {
   "cell_type": "markdown",
   "metadata": {},
   "source": [
    "### 5. The previous question addresses making a confidence interval for a population parameter based on a sample statistic. Why do we need to distinguish between the role of the popualation parameter and the sample sample statistic when it comes to confidence intervals? Explain this concisely in your own words.<br>\n",
    "\n",
    "<details class=\"details-example\"><summary style=\"color:blue\"><u>Further Guidance</u></summary>\n",
    "\n",
    "> _This question helps clarify the nature and relative roles of (population) parameters and (sample) statistics, which forms the fundamental conceptual relationship in statistics and data science; so, make sure you interact with a ChatBot (or search online or in the course [wiki-textbook](https://github.com/pointOfive/stat130chat130/wiki)) carefully and thoroughly to ensure that you understand the distinctions here in the context of confidence intervals._\n",
    ">\n",
    "> - _As always, don't forget to ask for summaries of your ChatBot session(s) and paste these into your homework notebook (including link(s) to chat log histories if you're using ChatGPT)._\n",
    "\n",
    "</details>"
   ]
  },
  {
   "cell_type": "markdown",
   "metadata": {},
   "source": [
    "Distinguishing between population parameters and sample statistics is crucial when constructing confidence intervals because they represent two different concepts. The population parameter is the actual, fixed characteristic of the entire population, while sample statistic is a numerical characteristic calculated from the sample. There exist a confidence interval providing a range of plausible values for the population parameter based on the observed sample statistic. The sample statistic is used to estimate the population parameter, and the confidence interval reflects the uncertainty in this estimate due to sampling variability. The interval doesn't guarantee that the true population parameter lies within it, but it gives a probable range assuming the method is repeated multiple times."
   ]
  },
  {
   "cell_type": "markdown",
   "metadata": {},
   "source": [
    "### 6. Provide written answers explaining the answers to the following questions in an informal manner of a conversation with a friend with little experience with statistics. <br>\n",
    "\n",
    "1. What is the process of bootstrapping? \n",
    "2. What is the main purpose of bootstrapping? \n",
    "3. If you had a (hypothesized) guess about what the average of a population was, and you had a sample of size n from that population, how could you use bootstrapping to assess whether or not your (hypothesized) guess might be plausible?\n",
    "   \n",
    "<details class=\"details-example\"><summary style=\"color:blue\"><u>Further Guidance</u></summary>\n",
    "\n",
    "> _Your answers to the previous questions 3-5 above (and the \"Further Guidance\" comments in question 3) should be very helpful for answering this question; but, they are very likely be more technical than would be useful for explaining these ideas to your friends. Work to use descriptive and intuitive language in your explaination._\n",
    "\n",
    "</details>"
   ]
  },
  {
   "cell_type": "markdown",
   "metadata": {},
   "source": [
    "1. You take your original sample and randomly pick data points from it allowing repeats to create a new bootstrap sample. You do this many times, like running simulations. The idea is that by treating your sample like a mini-version of the population, you can use the variation in these resamples to estimate things like the average, spread, or even more complex statistics.\n",
    "\n",
    "2. The main purpose of bootstrapping is to help you estimate how uncertain or variable your estimate might be. It gives you a way to measure how much you can trust your calculations.\n",
    "\n",
    "3. Using bootstrapping, you would start by resampling from your population many times, calculating the average height for each of these resamples. After doing this a bunch of times, you’d end up with a distribution of these \"bootstrapped\" averages. Next, you’d check where your hypothesized guess would falls under this distribution. If the bootstrapped averages tend to cluster around the population mean, your guess seems plausible. If most of the resampled averages are far away from the population mean, your guess might be off the mark."
   ]
  },
  {
   "cell_type": "markdown",
   "metadata": {},
   "source": [
    "\n",
    "### 7. The \"Pre-lecture\" video (above) introduced hypothesis testing by saying that \"the confidence interval covers zero, so we cannot reject the hypothesis that the drug is **[on average]** not doing anything\".  This conclusion could be referred to as \"failing to reject the null hypothesis\", where the term \"null\" refers to the concept of \"no effect **[on average]**\".  Why does a confidence interval overlapping zero \"fail to reject the null hypothesis\" when the observed sample mean statistic itself is not zero? Alternatively, what would lead to the opposite conclusion in this context; namely, instead choosing \"to reject the null hypothesis\"? Explain the answers to these questions concisely in your own words.<br>\n",
    "\n",
    "<details class=\"details-example\"><summary style=\"color:blue\"><u>Further Guidance</u></summary>\n",
    "\n",
    "> _This question (which addresses a very similar content to the third question of the previous probelm) is really about characterizing and leveraging the behavior of the variability/uncertainty of sample means that we expect at a given sample size. Understanding why this characterization would explain the answer to this question is the key idea underlying statistics. In fact, this concept is the primary consideration in statistics and the essense of how statistical analysis works._\n",
    "> \n",
    "> - In answering this question it is surely helpful to note the difference between the observed sample values in the sample $x_i$ (for $i = 1, \\cdots, n$), the observed sample average $\\bar x$, and the actual value of the parameter $\\mu$ clearly. Hopefully the meanings and distinctions here are increasingly obvious, as they should be if you have a clear understanding of the answer to question \"5\" above. Related to this, the quotes above have been edited to include \"**[on average]**\" which more accurately clarifies the intended meaning of the statements from the video. It's very relevent (again related to Question \"5\" above) to understand why are we bothering with making an explicit distinction with this, and why is it slightly different to say that \"the drug is on average not doing anything\" as opposed to saying \"the drug is not doing anything\"._\n",
    "> \n",
    "> Using a **null hypotheses** (and corresponding **alternative hypothesis**) will be addressed next week; but, to give a sneak peak preview of the **hypothesis testing** topic, the \"null\" and \"alternative\" are formally specified as \n",
    ">    \n",
    "> $H_0: \\mu=0 \\quad \\text{ and } \\quad H_A: H_0 \\text{ is false}$\n",
    ">\n",
    "> which means that our **null hypotheses** is that the average value $\\mu$ of the population is $0$, while our **alternative hypothesis** is that the average value $\\mu$ of the population is not $0$. \n",
    "> \n",
    "> **Statistical hypothesis testing** proceeds on the basis of the **scientific method** by defining the **null hypothesis** to be what we beleive until we have sufficient evidence to no longer believe it. As such, the **null hypotheses** is typically something that we *may not actually believe*; and, actually, the **null hypotheses** simply serves as a sort of \"straw man\" which we in fact really intend to give evidence against so as to no longer believe it (and hence move forward following the procedure of the **scientific method**).\n",
    "</details>"
   ]
  },
  {
   "cell_type": "markdown",
   "metadata": {},
   "source": [
    "If this confidence interval includes zero, it means that zero is a plausible value for the true effect. In other words, the data you have doesn’t provide strong enough evidence to confidently say that the drug does anything, because zero or no effect is still a possibility. This is why we say we \"fail to reject the null hypothesis\" in this situation. We can't confidently say the drug has an effect if zero is still within the range of plausible outcomes.\n",
    "\n",
    "If your confidence interval does not include zero, it means zero is not a plausible value for the true effect anymore. This suggests that the drug does, in fact, have some effect, because you’re confident that the true effect is somewhere outside of zero."
   ]
  },
  {
   "cell_type": "markdown",
   "metadata": {},
   "source": [
    "Link to chatGPT section for questions 5-7: https://chatgpt.com/share/66fe493a-a370-800e-adb3-c1e071569b7b\n",
    "\n",
    "Summary:\n",
    "In this conversation, we discussed a few key statistical concepts:\n",
    "\n",
    "1. **Bootstrapping**: This is a method where you resample your data (with repeats) to create new samples. It's used to estimate uncertainty in your data, especially when dealing with small sample sizes. By resampling many times, you get a sense of how variable your estimates (like the average) could be.\n",
    "\n",
    "2. **Hypothesis Testing and Confidence Intervals**: We explored how confidence intervals are used to evaluate whether a hypothesized value (such as zero effect in a drug study) is plausible. If the confidence interval includes zero, we \"fail to reject the null hypothesis,\" meaning there's not enough evidence to suggest the drug has an effect. However, if the confidence interval excludes zero, we reject the null hypothesis, suggesting the drug likely does have an effect."
   ]
  },
  {
   "cell_type": "markdown",
   "metadata": {},
   "source": [
    "### 8. Complete the following assignment. \n"
   ]
  },
  {
   "cell_type": "markdown",
   "metadata": {},
   "source": [
    "### Vaccine Data Analysis Assignment\n",
    "\n",
    "**Overview**\n",
    "\n",
    "The company AliTech has created a new vaccine that aims to improve the health of the people who take it. Your job is to use what you have learned in the course to give evidence for whether or not the vaccine is effective. \n",
    "\n",
    "**Data**\n",
    "AliTech has released the following data.\n",
    "\n",
    "```csv\n",
    "PatientID,Age,Gender,InitialHealthScore,FinalHealthScore\n",
    "1,45,M,84,86\n",
    "2,34,F,78,86\n",
    "3,29,M,83,80\n",
    "4,52,F,81,86\n",
    "5,37,M,81,84\n",
    "6,41,F,80,86\n",
    "7,33,M,79,86\n",
    "8,48,F,85,82\n",
    "9,26,M,76,83\n",
    "10,39,F,83,84\n",
    "```\n",
    "\n",
    "**Deliverables**\n",
    "While you can choose how to approach this project, the most obvious path would be to use bootstrapping, follow the analysis presented in the \"Pre-lecture\" HW video (above). Nonetheless, we are  primarily interested in evaluating your report relative to the following deliverables.\n",
    "\n",
    "- A visual presentation giving some initial insight into the comparison of interest.\n",
    "- A quantitative analysis of the data and an explanation of the method and purpose of this method.\n",
    "- A conclusion regarding a null hypothesis of \"no effect\" after analyzing the data with your methodology.\n",
    "- The clarity of your documentation, code, and written report. \n",
    "\n",
    "> Consider organizing your report within the following outline template.\n",
    "> - Problem Introduction \n",
    ">     - An explaination of the meaning of a Null Hypothesis of \"no effect\" in this context\n",
    ">     - Data Visualization (motivating and illustrating the comparison of interest)\n",
    "> - Quantitative Analysis\n",
    ">     - Methodology Code and Explanations\n",
    ">     - Supporting Visualizations\n",
    "> - Findings and Discussion\n",
    ">     - Conclusion regarding a Null Hypothesis of \"no effect\"\n",
    ">     - Further Considerations\n",
    "\n",
    "**Further Instructions**\n",
    "- When using random functions, you should make your analysis reproducible by using the `np.random.seed()` function\n",
    "- Create a CSV file and read that file in with your code, but **do not** include the CSV file along with your submission\n"
   ]
  },
  {
   "cell_type": "markdown",
   "metadata": {},
   "source": [
    "- Problem Introduction\n",
    "    - An explaination of the meaning of a Null Hypothesis of \"no effect\" in this context\n",
    "    \n",
    "    The null hypothesis of \"no effect\" in this context refers to the assumption that the treatment or intervention being applied to the patients has no significant impact on their health scores.\n",
    "    \n",
    "    - Data Visualization (motivating and illustrating the comparison of interest)"
   ]
  },
  {
   "cell_type": "code",
   "execution_count": 4,
   "metadata": {},
   "outputs": [
    {
     "data": {
      "image/png": "[encoded data removed]",
      "text/plain": [
       "<Figure size 1000x600 with 1 Axes>"
      ]
     },
     "metadata": {},
     "output_type": "display_data"
    }
   ],
   "source": [
    "import numpy as np\n",
    "import matplotlib.pyplot as plt\n",
    "\n",
    "# Sample data for the DataFrame\n",
    "data = {\n",
    "    \"PatientID\": [1, 2, 3, 4, 5, 6, 7, 8, 9, 10],\n",
    "    \"InitialHealthScore\": [84, 78, 83, 81, 81, 80, 79, 85, 76, 83],\n",
    "    \"FinalHealthScore\": [86, 86, 80, 86, 84, 86, 86, 82, 83, 84]\n",
    "}\n",
    "\n",
    "# Creating a side-by-side bar chart\n",
    "labels = data['PatientID']\n",
    "initial_scores = data['InitialHealthScore']\n",
    "final_scores = data['FinalHealthScore']\n",
    "\n",
    "x = np.arange(len(labels))  # the label locations\n",
    "width = 0.35  # the width of the bars\n",
    "\n",
    "fig, ax = plt.subplots(figsize=(10, 6))\n",
    "bars1 = ax.bar(x - width/2, initial_scores, width, label='Initial Health Score', color='lightblue')\n",
    "bars2 = ax.bar(x + width/2, final_scores, width, label='Final Health Score', color='lightgreen')\n",
    "\n",
    "# Add labels, title and legend\n",
    "ax.set_xlabel('PatientID')\n",
    "ax.set_ylabel('Health Score')\n",
    "ax.set_title('Comparison of Initial and Final Health Scores by Patient (70-90 Range)')\n",
    "ax.set_xticks(x)\n",
    "ax.set_xticklabels(labels)\n",
    "ax.legend()\n",
    "\n",
    "# Set y-axis limits to focus on the 70-90 range for health scores\n",
    "ax.set_ylim(70, 90)\n",
    "\n",
    "# Display the bar chart\n",
    "plt.show()"
   ]
  },
  {
   "cell_type": "markdown",
   "metadata": {},
   "source": [
    "- Quantitative Analysis\n",
    "    - Methodology Code and Explanations\n",
    "    \n",
    "    We are able to make observations in the change of heath scores for each patient:\n",
    "    \n",
    "    1. Most patients show an improvement in health scores (patients 1, 2, 4, 5, 6, 7, 9), improvements ranging from 2-7 points.\n",
    "    \n",
    "    2. Partient 10's health score stays within a 1 point improvement from their initial score. (is not significant enough to be counted as an improvement)\n",
    "    \n",
    "    3. A couple of patients show a decrease in their health scores after the treatment (Patient 3, 8), indicating that the treatment might have been less effective or that other factors negatively impacted their health.\n",
    "\n",
    "    The majority of patients exhibit an improvement in their health scores, which supports the idea that the treatment was generally beneficial. There are also some outliers and exceptions where patients either did not improve or experience a decline in health, which could be due to different factors or potential reasons(health conditions, individual differences).\n",
    "\n",
    "    - Supporting Visualizations"
   ]
  },
  {
   "cell_type": "code",
   "execution_count": 6,
   "metadata": {},
   "outputs": [
    {
     "data": {
      "image/png": "[encoded data removed]",
      "text/plain": [
       "<Figure size 1000x600 with 1 Axes>"
      ]
     },
     "metadata": {},
     "output_type": "display_data"
    }
   ],
   "source": [
    "import pandas as pd\n",
    "import matplotlib.pyplot as plt\n",
    "\n",
    "# Sample data for the DataFrame\n",
    "data = {\n",
    "    \"PatientID\": [1, 2, 3, 4, 5, 6, 7, 8, 9, 10],\n",
    "    \"Age\": [45, 34, 29, 52, 37, 41, 33, 48, 26, 39],\n",
    "    \"Gender\": ['M', 'F', 'M', 'F', 'M', 'F', 'M', 'F', 'M', 'F'],\n",
    "    \"InitialHealthScore\": [84, 78, 83, 81, 81, 80, 79, 85, 76, 83],\n",
    "    \"FinalHealthScore\": [86, 86, 80, 86, 84, 86, 86, 82, 83, 84]\n",
    "}\n",
    "\n",
    "# Creating DataFrame\n",
    "df = pd.DataFrame(data)\n",
    "\n",
    "# Calculate the difference between FinalHealthScore and InitialHealthScore\n",
    "df['ScoreDifference'] = df['FinalHealthScore'] - df['InitialHealthScore']\n",
    "\n",
    "# Bar Chart to Visualize the Change in Health Scores\n",
    "plt.figure(figsize=(10, 6))\n",
    "plt.bar(df['PatientID'], df['ScoreDifference'], color='skyblue')\n",
    "plt.xlabel('PatientID')\n",
    "plt.ylabel('Change in Health Score')\n",
    "plt.title('Change in Health Scores for Patients')\n",
    "plt.xticks(df['PatientID'])  # Ensuring all Patient IDs are shown on x-axis\n",
    "plt.show()"
   ]
  },
  {
   "cell_type": "markdown",
   "metadata": {},
   "source": [
    "    With this bar chart illustrating the change in health score instead of just the initial and final health score of the patients. This makes it way easier to determine and analyse the data.\n",
    "    \n",
    "- Findings and Discussion\n",
    "    - Conclusion regarding a Null Hypothesis of \"no effect\" and Further Considerations\n",
    "    \n",
    "    Given the overall trend of improved health scores and the potential for statistical significance from further analysis, we can conclude that there is sufficient evidence to reject the null hypothesis of \"no effect.\" This implies that the treatment has a positive impact on patient health scores, at least for the majority of patients.\n",
    "\n",
    "    However, it is essential to consider individual responses to the treatment and explore factors that may influence the effectiveness of the treatment for those who did not experience improvements. Future studies should aim to investigate these variations to enhance the treatment's efficacy across all patients.\n",
    "\n",
    "    As we move forward from our analysis and conclusions regarding the treatment's effect on health scores, several important factors and considerations should be taken into account:\n",
    "\n",
    "1. **Sample Size**:\n",
    "   - The current analysis is based on a small sample of only ten patients. While we observed general trends, larger sample sizes are necessary to ensure the robustness of the results and to better understand the variability in responses to the treatment.\n",
    "\n",
    "2. **Statistical Significance**:\n",
    "   - While visualizations suggest improvements, conducting a formal statistical test (e.g., paired t-test) would quantify the significance of these changes. Establishing a p-value would provide a clearer understanding of whether the observed differences are due to the treatment or random variation.\n",
    "\n",
    "3. **Individual Differences**:\n",
    "   - Variability in responses among patients suggests the presence of individual differences that may influence treatment effectiveness. Factors such as age, gender, pre-existing health conditions, and adherence to the treatment protocol should be examined further to identify why some patients did not experience improvements.\n",
    "\n",
    "4. **Long-Term Effects**:\n",
    "   - The current analysis only considers initial and final health scores. It would be valuable to conduct follow-up assessments to evaluate the long-term effects of the treatment. Are improvements maintained over time, or do scores revert to pre-treatment levels?\n",
    "\n",
    "5. **Control Group**:\n",
    "   - Implementing a control group in future studies would help establish a baseline for comparison, enabling a more rigorous evaluation of the treatment's effectiveness. Comparing treatment outcomes with those who did not receive the treatment would strengthen the evidence.\n",
    "\n",
    "6. **Qualitative Data**:\n",
    "   - Incorporating qualitative feedback from patients about their experiences and perceived changes in health can provide valuable insights that quantitative data alone may not capture. This could include patient-reported outcomes, quality of life assessments, and satisfaction with the treatment.\n",
    "\n",
    "    By addressing these considerations, researchers can enhance the validity of their findings and contribute to a deeper understanding of the treatment's effects on patient health outcomes."
   ]
  },
  {
   "cell_type": "markdown",
   "metadata": {},
   "source": [
    "Link to ChatGPT Section for question 8: https://chatgpt.com/share/66ff1c94-1970-800e-add9-36a486c545d5\n",
    "\n",
    "Summary:\n",
    "### Summary of the Chatbot Section\n",
    "\n",
    "1. **Data Presentation and Analysis**:\n",
    "   - You provided a dataset containing patient health scores before and after treatment.\n",
    "   - The task involved visualizing the data, conducting a quantitative analysis, and discussing the null hypothesis regarding treatment effects.\n",
    "\n",
    "2. **Visualizations Created**:\n",
    "   - Bar charts comparing initial and final health scores.\n",
    "   - Boxplots and histograms to explore score distributions.\n",
    "   - Scatter plots to analyze correlations between initial and final scores.\n",
    "   - A side-by-side bar chart focused on health scores within the range of 70-90.\n",
    "\n",
    "3. **Null Hypothesis Discussion**:\n",
    "   - We examined the null hypothesis (H₀) of \"no effect,\" concluding that the treatment likely had a positive impact on health scores, based on the observed trends and potential statistical significance.\n",
    "\n",
    "4. **Further Considerations Suggested**:\n",
    "   - Emphasized the importance of sample size, statistical significance, individual patient differences, long-term effects, the inclusion of qualitative data, and ethical considerations.\n",
    "   - Highlighted the need for future research to better understand treatment efficacy.\n",
    "\n",
    "This section provided a thorough analysis of the data, including insights into statistical implications, visual representations, and considerations for future studies on treatment effects on health scores."
   ]
  },
  {
   "cell_type": "markdown",
   "metadata": {},
   "source": [
    "### 9. Have you reviewed the course wiki-textbook and interacted with a ChatBot (or, if that wasn't sufficient, real people in the course piazza discussion board or TA office hours) to help you understand all the material in the tutorial and lecture that you didn't quite follow when you first saw it?<br>\n",
    "    \n",
    "<details class=\"details-example\"><summary style=\"color:blue\"><u>Further Guidance</u></summary>\n",
    "    \n",
    ">  Here is the link of [wiki-textbook](https://github.com/pointOfive/stat130chat130/wiki) in case it gets lost among all the information you need to keep track of  : )\n",
    "> \n",
    "> Just answering \"Yes\" or \"No\" or \"Somewhat\" or \"Mostly\" or whatever here is fine as this question isn't a part of the rubric; but, the midterm and final exams may ask questions that are based on the tutorial and lecture materials; and, your own skills will be limited by your familiarity with these materials (which will determine your ability to actually do actual things effectively with these skills... like the course project...)\n",
    "\n",
    "</details>\n",
    "\n",
    "_**Don't forget to ask for summaries of your ChatBot session(s) and paste these into your homework notebook (including link(s) to chat log histories if you're using ChatGPT)!**_"
   ]
  },
  {
   "cell_type": "markdown",
   "metadata": {},
   "source": [
    "Yes"
   ]
  },
  {
   "cell_type": "markdown",
   "metadata": {},
   "source": [
    "## Recommended Additional Useful Activities [Optional]\n",
    "\n",
    "The \"Ethical Profesionalism Considerations\" and \"Current Course Project Capability Level\" sections below **are not a part of the required homework assignment**; rather, they are regular weekly guides covering (a) relevant considerations regarding professional and ethical conduct, and (b) the analysis steps for the STA130 course project that are feasible at the current stage of the course \n",
    "\n",
    "<br>\n",
    "<details class=\"details-example\"><summary style=\"color:blue\"><u>Ethical Professionalism Considerations</u></summary>\n",
    "\n",
    "### Ethical Professionalism Considerations\n",
    "    \n",
    "1. What is the difference between reporting a sample statistic (say, from the Canadian Social Connection Survey) as opposed to the a population parameter (chacterizing the population of the Canadians the Canadian Social Connection Survey samples)?\n",
    "2. Why should bootsrapping (and confidence intervals in particular) be utilized when reporting sample statistics (say, from the Canadian Social Connection Survey)?\n",
    "3. How does bootsrapping (and confidence intervals in particular) help us relate the data we have to all Canadians? \n",
    "4. Is the population that the Canadian Social Connection Survey samples really actually all Canadians? Or is it biased in some way? \n",
    "5. Why are the previous questions \"Ethical\" and \"Professional\" in nature?\n",
    "6. If the Canadian Social Connection Survey samples Canadians in some sort of biased way, how could we begin considering if the results can generalize to all Canadians; or, perhaps, the degree to which the results could generalize to all Canadians?\n",
    "</details>    \n",
    "\n",
    "<details class=\"details-example\"><summary style=\"color:blue\"><u>Current Course Project Capability Level</u></summary>\n",
    "\n",
    "### Current Course Project Capability Level\n",
    "    \n",
    "**Remember to abide by the [data use agreement](https://static1.squarespace.com/static/60283c2e174c122f8ebe0f39/t/6239c284d610f76fed5a2e69/1647952517436/Data+Use+Agreement+for+the+Canadian+Social+Connection+Survey.pdf) at all times.**\n",
    "\n",
    "Information about the course project is available on the course github repo [here](https://github.com/pointOfive/stat130chat130/tree/main/CP), including a draft [course project specfication](https://github.com/pointOfive/stat130chat130/blob/main/CP/STA130F23_course_project_specification.ipynb) (subject to change). \n",
    "- The Week 01 HW introduced [STA130F24_CourseProject.ipynb](https://github.com/pointOfive/stat130chat130/blob/main/CP/STA130F24_CourseProject.ipynb), and the [available variables](https://drive.google.com/file/d/1ISVymGn-WR1lcRs4psIym2N3or5onNBi/view). \n",
    "- Please do not download the [data](https://drive.google.com/file/d/1mbUQlMTrNYA7Ly5eImVRBn16Ehy9Lggo/view) accessible at the bottom of the [CSCS](https://casch.org/cscs) webpage (or the course github repo) multiple times.\n",
    "        \n",
    "At this point in the course you should be able to compute a bootstrap confidence interval for the (candian) population mean of a numeric variable of the sample of the Canadian Social Connection Survey. On the basis of only using the techniques we've encountered in the course so far, it would only be possible to assess a null hypothesis of \"no effect\" if we had \"paired\" (e.g., \"before and after\") measurements in our data; but, we could of course assess a hypothesized parameter value estimated by the bootstrapped confidence interval of a relevant sample statistic...\n",
    "    \n",
    "1. What are the different samples and populations that are part of the data related to the Canadian Social Connection Survey?\n",
    "    \n",
    "2. Consider whether or not we have \"paired\" (e.g., \"before and after\") measurements in our data which could be used to assess a null hypothesis of \"no effect\" (in the manner of the \"Pre-lecture\" HW video above); and, if such data is available, create a confidence interval for the average sample difference and use it to assess a null hypothesis of \"no effect\".\n",
    "    \n",
    "3. Pick a couple numeric variables from the Canadian Social Connection Survey with different amounts of non-missing data and create a 95% bootstrapped confidence intervals estimating population parameters for the variables.  \n",
    "    1. You would not want to do this by hand [why?]; but, could you nonetheless describe how this process would be done if you were to do it by hand? \n",
    "\n",
    "    2. [For Advanced Students Only] There are two factors that go into the uncertainty of sample means: the standard deviation of the original sample and the size of the sample (and they create a standard error of the mean that is theoretically \"the standard deviation of the original sample divided by the square root of n\").  Compute the theoretical standard errors of the sample mean for the different variables you've considered; and, if they're different, confirm that they influence the (variance/uncertainty) bootstrapped sampling distribution of the mean as expected\n",
    "\n",
    "</details>            "
   ]
  }
 ],
 "metadata": {
  "celltoolbar": "Slideshow",
  "colab": {
   "provenance": []
  },
  "kernelspec": {
   "display_name": "Python 3 (ipykernel)",
   "language": "python",
   "name": "python3"
  },
  "language_info": {
   "codemirror_mode": {
    "name": "ipython",
    "version": 3
   },
   "file_extension": ".py",
   "mimetype": "text/x-python",
   "name": "python",
   "nbconvert_exporter": "python",
   "pygments_lexer": "ipython3",
   "version": "3.11.6"
  }
 },
 "nbformat": 4,
 "nbformat_minor": 1
}
